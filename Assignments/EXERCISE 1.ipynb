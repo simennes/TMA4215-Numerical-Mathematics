{
 "cells": [
  {
   "cell_type": "markdown",
   "id": "6f1d692f",
   "metadata": {},
   "source": [
    "# Numerical Mathematics - Assignment 1"
   ]
  },
  {
   "cell_type": "markdown",
   "id": "42570748",
   "metadata": {},
   "source": [
    "## Peder Brekke, Simen Nesland and Espen Bjørge Urheim"
   ]
  },
  {
   "cell_type": "markdown",
   "id": "9ff9b1e5",
   "metadata": {},
   "source": [
    "### TASK 1\n",
    "\n",
    "#### a)\n",
    "$A \\in \\mathbb{R}^{n\\times n}$ is non-singular, so $A$ has an inverse, $A^{-1}$.\n",
    "\n",
    "$$\\kappa_2(A)=\\|A\\|_2  \\|A^{-1}\\|_2,  \\|\\cdot\\|_2=\\sqrt{\\lambda_{max}(\\cdot)}$$\n",
    "\n",
    "$$\\Rightarrow \\|A^{-1}\\|=\\sqrt{\\lambda_{max}((A^{-1})^TA^{-1})}=\\sqrt{\\lambda_{max}((AA^T)^{-1})}$$\n",
    "\n",
    "$AA^T$ and $A^TA$ have the same nonzero eigenvalues ($A^TAx=\\lambda x \\rightarrow AA^T(Ax)=\\lambda (Ax), \\square$). Thus,\n",
    "\n",
    "$$\\|A^{-1}\\|_2=\\sqrt{\\lambda_{max}((A^TA)^{-1})}$$\n",
    "\n",
    "We know that the eigenvalues of an inverse matrix are $\\lambda(A^{-1})=\\frac{1}{\\lambda(A)}$.\n",
    "\n",
    "$$\\Rightarrow \\lambda_{max}((A^TA)^{-1}) = \\frac{1}{\\lambda_{min}(A^TA)}$$\n",
    "\n",
    "$$\n",
    "\\kappa(A)=\\kappa_2(A)=\\|A\\|_2 \\cdot \\|A^{-1}\\|_2=\\sqrt{\\lambda_{max}(A^TA)}\\cdot\\frac{1}{\\sqrt{\\lambda_{min}(A^TA)}} = (\\frac{\\lambda_{max}}{\\lambda_{min}})^{0.5}. \\square\n",
    "$$"
   ]
  },
  {
   "cell_type": "markdown",
   "id": "3deff8b6",
   "metadata": {},
   "source": [
    "#### b)\n",
    "\n",
    "For an orthogonal matrix, $Q$,\n",
    "\n",
    "$$\n",
    "Q^TQ=QQ^T=I \\Leftrightarrow Q^T=Q^{-1}\n",
    "$$\n",
    "\n",
    "This gives\n",
    "\n",
    "$$\n",
    "\\kappa_2(Q)= \\|Q\\|_2 \\|Q^{-1}\\|_2=\\|Q\\|_2 \\|Q^T\\|_2=\\sqrt{\\lambda_{max}(Q^TQ)}\\cdot \\sqrt{\\lambda_{max}(QQ^T)} = \\sqrt{\\lambda_{max}(I)\\cdot \\lambda_{max}(I)} = 1. \\square\n",
    "$$"
   ]
  },
  {
   "cell_type": "markdown",
   "id": "553539c5",
   "metadata": {},
   "source": [
    "#### c)\n",
    "\n",
    "$$\n",
    "\\kappa_2(A)= 1 \\Rightarrow \\|A\\|_2 \\|A^{-1}\\|_2 = (\\frac{\\lambda_{max}(A^TA)}{\\lambda_{min}(A^TA)})^{0.5} = 1 \\Rightarrow \\lambda_{max}(A^TA) = \\lambda_{min}(A^TA)\n",
    "$$\n",
    "\n",
    "Thus, all eigenvalues of $A^TA$ must be equal. $\\square$"
   ]
  },
  {
   "cell_type": "markdown",
   "id": "a25c744f",
   "metadata": {},
   "source": [
    "### TASK 2\n",
    "#### a)"
   ]
  },
  {
   "cell_type": "code",
   "execution_count": 1,
   "id": "cb92ba61",
   "metadata": {},
   "outputs": [],
   "source": [
    "import numpy as np\n",
    "import scipy.linalg\n",
    "\n",
    "def mylu(A):\n",
    "    A = np.copy(A)\n",
    "    n = np.shape(A)[0]\n",
    "    p = np.arange(n)\n",
    "    for i in range(n-1):\n",
    "        max_ind = np.where(abs(A)[:,i][i:] == np.amax(abs(A)[:,i][i:]))[0][0] + i\n",
    "        p[[i, max_ind]] = p[[max_ind, i]]\n",
    "        A[[i, max_ind]] = A[[max_ind, i]]\n",
    "        for j in range(i+1, n):\n",
    "            m = A[j][i]/A[i][i]\n",
    "            A[j][i:] -= m*A[i][i:]\n",
    "            A[j][i] = m\n",
    "\n",
    "    return A, p"
   ]
  },
  {
   "cell_type": "markdown",
   "id": "ac4c4fa7",
   "metadata": {},
   "source": [
    "#### b)"
   ]
  },
  {
   "cell_type": "code",
   "execution_count": 2,
   "id": "f6647239",
   "metadata": {},
   "outputs": [],
   "source": [
    "def L_U(LU):\n",
    "    \"\"\"\n",
    "    Additional function to split overwritten A-matrix into L and U\n",
    "    LU: Overwritten A-matrix\n",
    "    Returns: L (lower triangular with 1 on diagonal), U (upper triagonal)\n",
    "    \"\"\"\n",
    "    n = np.shape(LU)[0]\n",
    "    L = np.zeros(np.shape(LU))\n",
    "    U = np.zeros(np.shape(LU))\n",
    "    for i in range(n):\n",
    "        for j in range(n):\n",
    "            if j>=i:\n",
    "                U[i][j] = LU[i][j]\n",
    "            else:\n",
    "                L[i][j] = LU[i][j]\n",
    "            if j == i:\n",
    "                L[i][j] = 1\n",
    "    return L, U\n",
    "\n",
    "def mylutest(A):\n",
    "    \"\"\"\n",
    "    Checks if mylu() is equal to scipy's LU-factorization using np.allclose()\n",
    "    Returns: True/False\n",
    "    \"\"\"\n",
    "    L_sc = scipy.linalg.lu(A)[1]\n",
    "    U_sc = scipy.linalg.lu(A)[2]\n",
    "    L, U = L_U(mylu(A)[0])\n",
    "    if (np.allclose(L,L_sc) and np.allclose(U,U_sc)):\n",
    "        return True\n",
    "    else:\n",
    "        return False"
   ]
  },
  {
   "cell_type": "code",
   "execution_count": 3,
   "id": "782ac690",
   "metadata": {},
   "outputs": [
    {
     "data": {
      "text/plain": [
       "True"
      ]
     },
     "execution_count": 3,
     "metadata": {},
     "output_type": "execute_result"
    }
   ],
   "source": [
    "A = np.array([[2, 5, 8, 7], [5, 2, 2, 8], [7, 5, 6, 6], [5, 4, 4, 8]], dtype = float)\n",
    "mylutest(A)"
   ]
  },
  {
   "cell_type": "markdown",
   "id": "f2b201e2",
   "metadata": {},
   "source": [
    "#### c)"
   ]
  },
  {
   "cell_type": "code",
   "execution_count": 4,
   "id": "add2e31f",
   "metadata": {},
   "outputs": [
    {
     "name": "stdout",
     "output_type": "stream",
     "text": [
      "[[ 7.          5.         10.          6.        ]\n",
      " [ 0.28571429  3.57142857  7.14285714  5.28571429]\n",
      " [ 0.71428571 -0.44        0.          6.04      ]\n",
      " [ 0.71428571  0.12               nan         nan]]\n"
     ]
    },
    {
     "name": "stderr",
     "output_type": "stream",
     "text": [
      "C:\\Users\\Simen\\AppData\\Local\\Temp/ipykernel_94480/733284697.py:13: RuntimeWarning: invalid value encountered in double_scalars\n",
      "  m = A[j][i]/A[i][i]\n"
     ]
    }
   ],
   "source": [
    "B = np.array([[2, 5, 10, 7], [5, 2, 4, 8], [7, 5, 10, 6], [5, 4, 8, 8]], dtype = float)\n",
    "print(mylu(B)[0])"
   ]
  },
  {
   "cell_type": "markdown",
   "id": "371f4dcc",
   "metadata": {},
   "source": [
    "Beacuse two of the column vectors of $A$ are linearly dependent (i.e. we don't have full rank), we end up dividing by zero. At one point the pivot element of the current row will be zero, and when calculating the multiplier we divide by zero."
   ]
  },
  {
   "cell_type": "markdown",
   "id": "d09e69e1",
   "metadata": {},
   "source": [
    "### TASK 3\n",
    "#### a)"
   ]
  },
  {
   "cell_type": "code",
   "execution_count": 5,
   "id": "8bbdd992",
   "metadata": {},
   "outputs": [],
   "source": [
    "def fwdsub(A,b):\n",
    "    n = np.shape(A)[0]\n",
    "    x = np.zeros(n)\n",
    "    for i in range(n):\n",
    "        tot = b[i]\n",
    "        for j in range(i+1):\n",
    "            tot -= x[j]*A[i][j]\n",
    "        x[i] = tot/A[i][i]\n",
    "    return x"
   ]
  },
  {
   "cell_type": "markdown",
   "id": "59aba783",
   "metadata": {},
   "source": [
    "#### b)"
   ]
  },
  {
   "cell_type": "code",
   "execution_count": 6,
   "id": "0f126198",
   "metadata": {},
   "outputs": [],
   "source": [
    "def bcksub(A,b):\n",
    "    A = np.flip(A)\n",
    "    b = np.flip(b)\n",
    "    return np.flip(fwdsub(A, b))"
   ]
  },
  {
   "cell_type": "markdown",
   "id": "886a73e1",
   "metadata": {},
   "source": [
    "#### c)"
   ]
  },
  {
   "cell_type": "code",
   "execution_count": 7,
   "id": "522d1bf5",
   "metadata": {},
   "outputs": [],
   "source": [
    "def permutation(p):\n",
    "    \"\"\"\n",
    "    Converts permutation vector to permutation matrix\n",
    "    \"\"\"\n",
    "    P = []\n",
    "    n = len(p)\n",
    "    for i in range(n):\n",
    "        row = np.zeros(n)\n",
    "        row[p[i]] = 1\n",
    "        P.append(row)\n",
    "    return np.array(P)\n",
    "\n",
    "def my_solve(A, b):\n",
    "    LU, P = mylu(A)\n",
    "    P = permutation(P)\n",
    "    L, U = L_U(LU)\n",
    "    y = fwdsub(L, P@b)\n",
    "    x = bcksub(U, y)\n",
    "    return x"
   ]
  },
  {
   "cell_type": "code",
   "execution_count": 8,
   "id": "dc30a3aa",
   "metadata": {},
   "outputs": [
    {
     "name": "stdout",
     "output_type": "stream",
     "text": [
      "[ 0.01554201  0.1445774  -0.00026109 -0.02918739]\n",
      "[ 0.01554201  0.1445774  -0.00026109 -0.02918739]\n"
     ]
    }
   ],
   "source": [
    "# Testing previous code:\n",
    "\n",
    "A = np.array([[2, 5, 8, 7], [5, 2, 2, 8], [7, 5, 6, 6], [5, 4, 4, 8]], dtype = float)\n",
    "b = np.random.rand(1,4)[0]\n",
    "\n",
    "print(my_solve(A, b))\n",
    "print(scipy.linalg.solve(A,b))"
   ]
  },
  {
   "cell_type": "markdown",
   "id": "bf4fa4b5",
   "metadata": {},
   "source": [
    "#### d)"
   ]
  },
  {
   "cell_type": "code",
   "execution_count": 9,
   "id": "93ecc7cb",
   "metadata": {},
   "outputs": [
    {
     "name": "stdout",
     "output_type": "stream",
     "text": [
      "Compute LU every time:    8.0681 sec\n",
      "Compute LU once:          1.0877 sec\n",
      "Scipy method:             0.017 sec\n"
     ]
    }
   ],
   "source": [
    "import time\n",
    "\n",
    "def my_solve_LU(L, U, P, b):\n",
    "    \"\"\"\n",
    "    Solves equation given L, U already computed\n",
    "    \"\"\"\n",
    "    y = fwdsub(L, P@b)\n",
    "    x = bcksub(U, y)\n",
    "    return x\n",
    "\n",
    "def testRuntime():\n",
    "    A = np.random.rand(100,100)\n",
    "    bs = np.random.rand(200,100)\n",
    "\n",
    "    times = []\n",
    "\n",
    "    # LU every time\n",
    "    t0 = time.time()\n",
    "    for i in range(200):\n",
    "        x = my_solve(A, bs[i])\n",
    "    times.append(time.time()-t0)\n",
    "\n",
    "    # LU once\n",
    "    t0 = time.time()\n",
    "    LU, P = mylu(A)\n",
    "    P = permutation(P)\n",
    "    L, U = L_U(LU)\n",
    "    for i in range(200):\n",
    "        x = my_solve_LU(L, U, P, bs[i])\n",
    "    times.append(time.time()-t0)\n",
    "\n",
    "    # Scipy\n",
    "    t0 = time.time()\n",
    "    for i in range(200):\n",
    "        x = np.linalg.solve(A, bs[i])\n",
    "    times.append(time.time()-t0)\n",
    "\n",
    "    return times\n",
    "\n",
    "tests = [\"Compute LU every time\", \"Compute LU once\", \"Scipy method\"]\n",
    "times = testRuntime()\n",
    "\n",
    "for i, time in enumerate(times):\n",
    "    print((tests[i] + \":\").ljust(25), round(time,4), \"sec\")"
   ]
  },
  {
   "cell_type": "markdown",
   "id": "bcc566ed",
   "metadata": {},
   "source": [
    "The method computing $L$ and $U$ only once is obviously way faster than the one that decomposes A every time. LU decomposition has time complexity $O(n^3)$ so computing this only once saves a lot of time. Scipy is faster beacuse the time-critical loops are written in other languages such as C, C++ and Fortran. Also, our algorithms may be improved slightly in terms of memory use and use of slow bulit-in functions."
   ]
  }
 ],
 "metadata": {
  "kernelspec": {
   "display_name": "Python 3 (ipykernel)",
   "language": "python",
   "name": "python3"
  },
  "language_info": {
   "codemirror_mode": {
    "name": "ipython",
    "version": 3
   },
   "file_extension": ".py",
   "mimetype": "text/x-python",
   "name": "python",
   "nbconvert_exporter": "python",
   "pygments_lexer": "ipython3",
   "version": "3.9.7"
  }
 },
 "nbformat": 4,
 "nbformat_minor": 5
}
